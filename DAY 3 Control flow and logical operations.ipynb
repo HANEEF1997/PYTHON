{
 "cells": [
  {
   "cell_type": "markdown",
   "metadata": {},
   "source": [
    "### if  else Statement"
   ]
  },
  {
   "cell_type": "code",
   "execution_count": 20,
   "metadata": {},
   "outputs": [
    {
     "name": "stdout",
     "output_type": "stream",
     "text": [
      "Welcome to the rollercoaster!\n",
      "What is your height in cm? 12112121\n",
      "you can ride rollercoaster\n"
     ]
    }
   ],
   "source": [
    "print(\"Welcome to the rollercoaster!\")\n",
    "height = int(input(\"What is your height in cm? \"))\n",
    "\n",
    "if height >120:\n",
    "    print(\"you can ride rollercoaster\")\n",
    "else:\n",
    "    print(\"sorry you have grow taller before you can ride\")"
   ]
  },
  {
   "cell_type": "markdown",
   "metadata": {},
   "source": [
    "### program to check number is odd or even"
   ]
  },
  {
   "cell_type": "code",
   "execution_count": 21,
   "metadata": {},
   "outputs": [
    {
     "name": "stdout",
     "output_type": "stream",
     "text": [
      "Which number do you want to check? 122110\n",
      "this is a even\n"
     ]
    }
   ],
   "source": [
    "# 🚨 Don't change the code below 👇\n",
    "number = int(input(\"Which number do you want to check? \"))\n",
    "# 🚨 Don't change the code above 👆\n",
    "\n",
    "if number % 2 == 0:\n",
    "    print(\"this is a even\")\n",
    "else:\n",
    "    print(\"this is a odd\")"
   ]
  },
  {
   "cell_type": "markdown",
   "metadata": {},
   "source": [
    "### Nested if else statement"
   ]
  },
  {
   "cell_type": "code",
   "execution_count": 25,
   "metadata": {},
   "outputs": [
    {
     "name": "stdout",
     "output_type": "stream",
     "text": [
      "Welcome to the rollercoaster!\n",
      "What is your height in cm? 122\n",
      "enter your age52\n",
      "you can ride rollercoaster\n",
      "please pay $12\n"
     ]
    }
   ],
   "source": [
    "print(\"Welcome to the rollercoaster!\")\n",
    "height = int(input(\"What is your height in cm? \"))\n",
    "age = int(input(\"enter your age\"))\n",
    "if height >120:\n",
    "    print(\"you can ride rollercoaster\")\n",
    "    \n",
    "    if age < 18:\n",
    "        print(\"please pay $7\")\n",
    "    else:\n",
    "        print(\"please pay $12\")\n",
    "        \n",
    "else:\n",
    "    print(\"sorry you have grow taller before you can ride\")"
   ]
  },
  {
   "cell_type": "markdown",
   "metadata": {},
   "source": [
    "### if / elif / else"
   ]
  },
  {
   "cell_type": "code",
   "execution_count": 29,
   "metadata": {},
   "outputs": [
    {
     "name": "stdout",
     "output_type": "stream",
     "text": [
      "Welcome to the rollercoaster!\n",
      "What is your height in cm? 232\n",
      "enter your age 18\n",
      "you can ride rollercoaster\n",
      "please pay $7\n"
     ]
    }
   ],
   "source": [
    "print(\"Welcome to the rollercoaster!\")\n",
    "height = int(input(\"What is your height in cm? \"))\n",
    "age = int(input(\"enter your age \"))\n",
    "if height >120:\n",
    "    print(\"you can ride rollercoaster\")\n",
    "    \n",
    "    if age < 12:\n",
    "        print(\"please pay $5\")\n",
    "    elif age <= 18:\n",
    "        print(\"please pay $7\")\n",
    "    else:\n",
    "        print(\"please pay $12\")\n",
    "        \n",
    "else:\n",
    "    print(\"sorry you have grow taller before you can ride\")"
   ]
  },
  {
   "cell_type": "markdown",
   "metadata": {},
   "source": [
    "### BMI Calculator update"
   ]
  },
  {
   "cell_type": "raw",
   "metadata": {},
   "source": [
    "Write a program that calculates the Body Mass Index (BMI) from a user's weight and height.\n",
    "The BMI is calculated by dividing a person's weight (in kg) by the square of their height (in m):\n",
    "calculator = weight/h**2  "
   ]
  },
  {
   "cell_type": "raw",
   "metadata": {},
   "source": [
    "Write a program that interprets the Body Mass Index (BMI) based on a user's weight and height.\n",
    "\n",
    "It should tell them the interpretation of their BMI based on the BMI value.\n",
    "\n",
    "Under 18.5 they are underweight\n",
    "Over 18.5 but below 25 they have a normal weight\n",
    "Over 25 but below 30 they are slightly overweight\n",
    "Over 30 but below 35 they are obese\n",
    "Above 35 they are clinically obese.\n",
    "\n",
    "Your BMI is 28, you are slightly overweight."
   ]
  },
  {
   "cell_type": "code",
   "execution_count": 2,
   "metadata": {},
   "outputs": [
    {
     "name": "stdout",
     "output_type": "stream",
     "text": [
      "enter your weight in kg: 85\n",
      "enter your height in m: 1.75\n",
      "Your BMI is 28, your are slightly overweight \n"
     ]
    }
   ],
   "source": [
    "# 🚨 Don't change the code below 👇\n",
    "weight = input(\"enter your weight in kg: \")\n",
    "height = input(\"enter your height in m: \")\n",
    "# 🚨 Don't change the code above 👆\n",
    "\n",
    "height_int = float(height)\n",
    "weight_float = int(weight)\n",
    "\n",
    "BMI_CAL = round(weight_float/(height_int**2))\n",
    "\n",
    "if BMI_CAL < 18.5:\n",
    "    print(f\"Your BMI is {BMI_CAL}, your are underweight \")\n",
    "elif BMI_CAL < 25:\n",
    "    print(f\"Your BMI is {BMI_CAL}, your have a normal weight \")\n",
    "elif BMI_CAL < 30:\n",
    "    print(f\"Your BMI is {BMI_CAL}, your are slightly overweight \")\n",
    "elif BMI_CAL < 35:\n",
    "    print(f\"Your BMI is {BMI_CAL}, your are are obese \")\n",
    "else:\n",
    "    print(f\"Your BMI is {BMI_CAL}, clinically obese \")"
   ]
  },
  {
   "cell_type": "markdown",
   "metadata": {},
   "source": [
    "### PROGRAM TO KNOW lEAP YEAR"
   ]
  },
  {
   "cell_type": "code",
   "execution_count": 12,
   "metadata": {},
   "outputs": [
    {
     "name": "stdout",
     "output_type": "stream",
     "text": [
      "enter year 2021\n",
      "2021 is not leap year\n"
     ]
    }
   ],
   "source": [
    "year = int(input(\"enter year \"))\n",
    "\n",
    "if year % 4 == 0:\n",
    "    print(f\"{year} is a leap year\")    \n",
    "    if year % 100 == 0:\n",
    "        print(f\"{year} is not leap year\")\n",
    "        if year % 400 == 0:\n",
    "            print(f\"{year} is a leap year\")\n",
    "else:\n",
    "    print(f\"{year} is not leap year\")"
   ]
  },
  {
   "cell_type": "code",
   "execution_count": 8,
   "metadata": {},
   "outputs": [
    {
     "name": "stdout",
     "output_type": "stream",
     "text": [
      "Which year do you want to check? 2101\n",
      "Not leap year.\n"
     ]
    }
   ],
   "source": [
    "# 🚨 Don't change the code below 👇\n",
    "year = int(input(\"Which year do you want to check? \"))\n",
    "# 🚨 Don't change the code above 👆\n",
    "\n",
    "if year % 4 == 0:\n",
    "    if year % 100 == 0:\n",
    "        if year % 400 == 0:\n",
    "            print(\"Leap year.\")\n",
    "        else:\n",
    "            print(\"Not leap year.\")\n",
    "    else:\n",
    "        print(\"Leap year.\")\n",
    "else:\n",
    "    print(\"Not leap year.\")"
   ]
  },
  {
   "cell_type": "markdown",
   "metadata": {},
   "source": [
    "### Multiple if statements"
   ]
  },
  {
   "cell_type": "code",
   "execution_count": 7,
   "metadata": {},
   "outputs": [
    {
     "name": "stdout",
     "output_type": "stream",
     "text": [
      "Welcome to the rollercoaster!\n",
      "What is your height in cm? 121\n",
      "enter your age 1212\n",
      "You can ride the rollercoaster!\n",
      "Adult tickets are $12.\n",
      "Do you want a photo taken? Y or N. N\n",
      "Your final bill is $12\n"
     ]
    }
   ],
   "source": [
    "print(\"Welcome to the rollercoaster!\")\n",
    "height = int(input(\"What is your height in cm? \"))\n",
    "age = int(input(\"enter your age \"))\n",
    "\n",
    "bill = 0\n",
    "if height >120:\n",
    "    print(\"You can ride the rollercoaster!\")\n",
    "    if age < 12:\n",
    "        bill += 5\n",
    "        print(\"Child tickets are $5.\")\n",
    "    elif age <= 18:\n",
    "        bill += 7\n",
    "        print(\"Youth tickets are $7.\")\n",
    "    else:\n",
    "        bill += 12\n",
    "        print(\"Adult tickets are $12.\")\n",
    "        \n",
    "    want_photo = input(\"Do you want a photo taken? Y or N. \")\n",
    "    if want_photo == 'Y':\n",
    "        bill += 3\n",
    "        print(\"extra $3 for each photo\")\n",
    "        \n",
    "    print(f\"Your final bill is ${bill}\")\n",
    "    \n",
    "else:\n",
    "    print(\"sorry you have grow taller before you can ride\")"
   ]
  },
  {
   "cell_type": "markdown",
   "metadata": {},
   "source": [
    "### Pizza Order"
   ]
  },
  {
   "cell_type": "raw",
   "metadata": {},
   "source": [
    "Congratulations, you've got a job at Python Pizza. Your first job is to build an automatic pizza order program.\n",
    "\n",
    "Based on a user's order, work out their final bill.\n",
    "```\n",
    "Small Pizza: $15\n",
    "```\n",
    "\n",
    "```\n",
    "Medium Pizza: $20\n",
    "```\n",
    "\n",
    "```\n",
    "Large Pizza: $25\n",
    "```\n",
    "\n",
    "```\n",
    "Pepperoni for Small Pizza: +$2\n",
    "```\n",
    "\n",
    "```\n",
    "Pepperoni for Medium or Large Pizza: +$3\n",
    "```\n",
    "\n",
    "```\n",
    "Extra cheese for any size pizza: + $1"
   ]
  },
  {
   "cell_type": "code",
   "execution_count": 11,
   "metadata": {},
   "outputs": [
    {
     "name": "stdout",
     "output_type": "stream",
     "text": [
      "Welcome to Python Pizza Deliveries!\n",
      "What size pizza do you want? S, M, or L S\n",
      "Do you want pepperoni? Y or N Y\n",
      "Do you want extra cheese? Y or N N\n",
      "final bill 17\n"
     ]
    }
   ],
   "source": [
    "# 🚨 Don't change the code below 👇\n",
    "print(\"Welcome to Python Pizza Deliveries!\")\n",
    "size = input(\"What size pizza do you want? S, M, or L \")\n",
    "add_pepperoni = input(\"Do you want pepperoni? Y or N \")\n",
    "extra_cheese = input(\"Do you want extra cheese? Y or N \")\n",
    "# 🚨 Don't change the code above 👆\n",
    "\n",
    "bill = 0\n",
    "if size == \"S\":\n",
    "    bill += 15\n",
    "elif size == \"M\":\n",
    "    bill += 20\n",
    "elif size == \"L\":\n",
    "    bill += 24\n",
    "    \n",
    "if add_pepperoni == \"Y\":\n",
    "    if size == \"S\":\n",
    "        bill += 2\n",
    "    else:\n",
    "        bill += 3 \n",
    "\n",
    "if extra_cheese == \"Y\":\n",
    "      bill += 1\n",
    "\n",
    "print(f\"final bill {bill}\")  "
   ]
  },
  {
   "cell_type": "markdown",
   "metadata": {},
   "source": [
    "### Logical Operations"
   ]
  },
  {
   "cell_type": "code",
   "execution_count": 4,
   "metadata": {},
   "outputs": [
    {
     "name": "stdout",
     "output_type": "stream",
     "text": [
      "Welcome to the rollercoaster!\n",
      "What is your height in cm? 121\n",
      "enter your age 64\n",
      "You can ride the rollercoaster!\n",
      "free ride for age between 55 - 65\n"
     ]
    }
   ],
   "source": [
    "print(\"Welcome to the rollercoaster!\")\n",
    "height = int(input(\"What is your height in cm? \"))\n",
    "age = int(input(\"enter your age \"))\n",
    "\n",
    "bill = 0\n",
    "if height >120:\n",
    "    print(\"You can ride the rollercoaster!\")\n",
    "    if age < 12:\n",
    "        bill += 5\n",
    "        print(\"Child tickets are $5.\")\n",
    "    elif age <= 18:\n",
    "        bill += 7\n",
    "        print(\"Youth tickets are $7.\")\n",
    "    elif age >= 55 and age <= 65: \n",
    "        print(\"free ride for age between 55 - 65\")\n",
    "    else:\n",
    "        bill += 12\n",
    "        print(\"Adult tickets are $12.\")\n",
    "    \n",
    "else:\n",
    "    print(\"sorry you have grow taller before you can ride\")"
   ]
  },
  {
   "cell_type": "markdown",
   "metadata": {},
   "source": [
    "### Love Calculator"
   ]
  },
  {
   "cell_type": "raw",
   "metadata": {},
   "source": [
    "# 💪 This is a Difficult Challenge 💪\n",
    "\n",
    "# Instructions\n",
    "\n",
    "You are going to write a program that tests the compatibility between two people.  \n",
    "\n",
    "To work out the love score between two people:\n",
    "\n",
    "Take both people's names and check for the number of times the letters in the word TRUE occurs. Then check for the number of times the letters in the word LOVE occurs. Then combine these numbers to make a 2 digit number."
   ]
  },
  {
   "cell_type": "code",
   "execution_count": 5,
   "metadata": {},
   "outputs": [
    {
     "name": "stdout",
     "output_type": "stream",
     "text": [
      "Welcome to the Love Calculator!\n",
      "What is your name? \n",
      "shaik haneef\n",
      "What is their name? \n",
      "Angela Yu\n",
      "Your score is 44, you are alright together.\n"
     ]
    }
   ],
   "source": [
    "# 🚨 Don't change the code below 👇\n",
    "print(\"Welcome to the Love Calculator!\")\n",
    "name1 = input(\"What is your name? \\n\")\n",
    "name2 = input(\"What is their name? \\n\")\n",
    "# 🚨 Don't change the code above 👆\n",
    "\n",
    "two_names = (name1+name2).upper()\n",
    "\n",
    "T = two_names.count('T')\n",
    "R = two_names.count('R')\n",
    "U = two_names.count('U')\n",
    "E = two_names.count('E')\n",
    "\n",
    "true = T+R+U+E\n",
    "\n",
    "L = two_names.count('L')\n",
    "O = two_names.count('O')\n",
    "V = two_names.count('V')\n",
    "E = two_names.count('E')\n",
    "\n",
    "love = L+O+V+E\n",
    "\n",
    "true_love = str(true)+str(love)\n",
    "true_love = int(true_love)\n",
    "if true_love < 10 and true_love > 90:\n",
    "    print(f\"Your score is {true_love}, you go together like coke and mentos.\")\n",
    "elif true_love > 40 and true_love < 50:\n",
    "    print(f\"Your score is {true_love}, you are alright together.\")\n",
    "else:\n",
    "    print(f\"Your score is {true_love}.\")"
   ]
  },
  {
   "cell_type": "markdown",
   "metadata": {},
   "source": [
    "### treasure-island-start"
   ]
  },
  {
   "cell_type": "raw",
   "metadata": {},
   "source": [
    "write a program to found the treasure!"
   ]
  },
  {
   "cell_type": "code",
   "execution_count": 8,
   "metadata": {},
   "outputs": [
    {
     "name": "stdout",
     "output_type": "stream",
     "text": [
      "\n",
      "*******************************************************************************\n",
      "          |                   |                  |                     |\n",
      " _________|________________.=\"\"_;=.______________|_____________________|_______\n",
      "|                   |  ,-\"_,=\"\"     `\"=.|                  |\n",
      "|___________________|__\"=._o`\"-._        `\"=.______________|___________________\n",
      "          |                `\"=._o`\"=._      _`\"=._                     |\n",
      " _________|_____________________:=._o \"=._.\"_.-=\"'\"=.__________________|_______\n",
      "|                   |    __.--\" , ; `\"=._o.\" ,-\"\"\"-._ \".   |\n",
      "|___________________|_._\"  ,. .` ` `` ,  `\"-._\"-._   \". '__|___________________\n",
      "          |           |o`\"=._` , \"` `; .\". ,  \"-._\"-._; ;              |\n",
      " _________|___________| ;`-.o`\"=._; .\" ` '`.\"\\` . \"-._ /_______________|_______\n",
      "|                   | |o;    `\"-.o`\"=._``  '` \" ,__.--o;   |\n",
      "|___________________|_| ;     (#) `-.o `\"=.`_.--\"_o.-; ;___|___________________\n",
      "____/______/______/___|o;._    \"      `\".o|o_.--\"    ;o;____/______/______/____\n",
      "/______/______/______/_\"=._o--._        ; | ;        ; ;/______/______/______/_\n",
      "____/______/______/______/__\"=._o--._   ;o|o;     _._;o;____/______/______/____\n",
      "/______/______/______/______/____\"=._o._; | ;_.--\"o.--\"_/______/______/______/_\n",
      "____/______/______/______/______/_____\"=.o|o_.--\"\"___/______/______/______/____\n",
      "/______/______/______/______/______/______/______/______/______/______/_____ /\n",
      "*******************************************************************************\n",
      "\n",
      "Welcome to Treasure Island.\n",
      "Your mission is to find the treasure.\n",
      "You're at a cross road. Where do you want to go? Type \"left\" or \"right\" \n",
      "left\n",
      "You've come to a lake. There is an island in the middle of the lake. Type \"wait\" to wait for a boat. Type \"swim\" to swim across. \n",
      "wait\n",
      "You arrive at the island unharmed. There is a house with 3 doors. One red, one yellow and one blue. Which colour do you choose? \n",
      "yellow\n",
      "You found the treasure! You Win!\n"
     ]
    }
   ],
   "source": [
    "print('''\n",
    "*******************************************************************************\n",
    "          |                   |                  |                     |\n",
    " _________|________________.=\"\"_;=.______________|_____________________|_______\n",
    "|                   |  ,-\"_,=\"\"     `\"=.|                  |\n",
    "|___________________|__\"=._o`\"-._        `\"=.______________|___________________\n",
    "          |                `\"=._o`\"=._      _`\"=._                     |\n",
    " _________|_____________________:=._o \"=._.\"_.-=\"'\"=.__________________|_______\n",
    "|                   |    __.--\" , ; `\"=._o.\" ,-\"\"\"-._ \".   |\n",
    "|___________________|_._\"  ,. .` ` `` ,  `\"-._\"-._   \". '__|___________________\n",
    "          |           |o`\"=._` , \"` `; .\". ,  \"-._\"-._; ;              |\n",
    " _________|___________| ;`-.o`\"=._; .\" ` '`.\"\\` . \"-._ /_______________|_______\n",
    "|                   | |o;    `\"-.o`\"=._``  '` \" ,__.--o;   |\n",
    "|___________________|_| ;     (#) `-.o `\"=.`_.--\"_o.-; ;___|___________________\n",
    "____/______/______/___|o;._    \"      `\".o|o_.--\"    ;o;____/______/______/____\n",
    "/______/______/______/_\"=._o--._        ; | ;        ; ;/______/______/______/_\n",
    "____/______/______/______/__\"=._o--._   ;o|o;     _._;o;____/______/______/____\n",
    "/______/______/______/______/____\"=._o._; | ;_.--\"o.--\"_/______/______/______/_\n",
    "____/______/______/______/______/_____\"=.o|o_.--\"\"___/______/______/______/____\n",
    "/______/______/______/______/______/______/______/______/______/______/_____ /\n",
    "*******************************************************************************\n",
    "''')\n",
    "print(\"Welcome to Treasure Island.\")\n",
    "print(\"Your mission is to find the treasure.\")\n",
    "choice1 = input('You\\'re at a cross road. Where do you want to go? Type \"left\" or \"right\" \\n').lower()\n",
    "if choice1 == \"left\":\n",
    "    choice2 = input('You\\'ve come to a lake. There is an island in the middle of the lake. Type \"wait\" to wait for a boat. Type \"swim\" to swim across. \\n').lower()\n",
    "    if choice2 == \"wait\":\n",
    "        choice3 = input(\"You arrive at the island unharmed. There is a house with 3 doors. One red, one yellow and one blue. Which colour do you choose? \\n\").lower()\n",
    "        if choice3 == \"red\":\n",
    "            print(\"It's a room full of fire. Game Over.\")\n",
    "        elif choice3 == \"yellow\":\n",
    "            print(\"You found the treasure! You Win!\")\n",
    "        elif choice3 == \"blue\":\n",
    "            print(\"You enter a room of beasts. Game Over.\")\n",
    "        else:\n",
    "            print(\"You chose a door that doesn't exist. Game Over.\")\n",
    "    else:\n",
    "        print(\"You get attacked by an angry trout. Game Over.\")\n",
    "else:\n",
    "    print(\"You fell into a hole. Game Over.\")"
   ]
  },
  {
   "cell_type": "code",
   "execution_count": null,
   "metadata": {},
   "outputs": [],
   "source": []
  }
 ],
 "metadata": {
  "kernelspec": {
   "display_name": "Python 3",
   "language": "python",
   "name": "python3"
  },
  "language_info": {
   "codemirror_mode": {
    "name": "ipython",
    "version": 3
   },
   "file_extension": ".py",
   "mimetype": "text/x-python",
   "name": "python",
   "nbconvert_exporter": "python",
   "pygments_lexer": "ipython3",
   "version": "3.8.5"
  }
 },
 "nbformat": 4,
 "nbformat_minor": 4
}
