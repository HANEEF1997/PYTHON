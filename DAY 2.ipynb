{
 "cells": [
  {
   "cell_type": "markdown",
   "metadata": {},
   "source": [
    "### Data Types Task"
   ]
  },
  {
   "cell_type": "raw",
   "metadata": {},
   "source": [
    "Write a program that adds the digits in a 2 digit number. \n",
    "e.g. if the input was 35, then the output should be 3 + 5 = 8"
   ]
  },
  {
   "cell_type": "code",
   "execution_count": 3,
   "metadata": {},
   "outputs": [
    {
     "name": "stdout",
     "output_type": "stream",
     "text": [
      "Type a two digit number: 22\n",
      "4\n"
     ]
    }
   ],
   "source": [
    "two_digit_number = input(\"Type a two digit number: \")\n",
    "# 🚨 Don't change the code above 👆\n",
    "\n",
    "digit1 = int(two_digit_number[0])\n",
    "digit2 = int(two_digit_number[1])\n",
    "sum_two_digits = digit1+digit2\n",
    "print(sum_digits)"
   ]
  },
  {
   "cell_type": "markdown",
   "metadata": {},
   "source": [
    "### BMI Calculator"
   ]
  },
  {
   "cell_type": "raw",
   "metadata": {},
   "source": [
    "Write a program that calculates the Body Mass Index (BMI) from a user's weight and height.\n",
    "The BMI is calculated by dividing a person's weight (in kg) by the square of their height (in m):\n",
    "calculator = weight/h**2  "
   ]
  },
  {
   "cell_type": "code",
   "execution_count": 2,
   "metadata": {},
   "outputs": [
    {
     "name": "stdout",
     "output_type": "stream",
     "text": [
      "enter your weight in kg: 80\n",
      "enter your height in m: 1.75\n",
      "26\n"
     ]
    }
   ],
   "source": [
    "# 🚨 Don't change the code below 👇\n",
    "weight = input(\"enter your weight in kg: \")\n",
    "height = input(\"enter your height in m: \")\n",
    "# 🚨 Don't change the code above 👆\n",
    "\n",
    "height_int = float(height)\n",
    "weight_float = int(weight)\n",
    "\n",
    "BMI_CAL = weight_float/(height_int**2)\n",
    "print(int(BMI_CAL))"
   ]
  },
  {
   "cell_type": "markdown",
   "metadata": {},
   "source": [
    "### Your Life in Weeks"
   ]
  },
  {
   "cell_type": "raw",
   "metadata": {},
   "source": [
    "Create a program using maths and f-Strings \n",
    "that tells us how many days, weeks, months we have left if we live until 90 years old. \n",
    "\n",
    "# hint\n",
    "There are 365 days in a year, 52 weeks in a year and 12 months in a year."
   ]
  },
  {
   "cell_type": "code",
   "execution_count": 4,
   "metadata": {},
   "outputs": [
    {
     "name": "stdout",
     "output_type": "stream",
     "text": [
      "What is your current age?56\n",
      "you have 12410, 1768 weeks, and 408 left \n"
     ]
    }
   ],
   "source": [
    "age = input(\"What is your current age?\")\n",
    "\n",
    "years = 90-int(age)\n",
    "days = years*365\n",
    "weeks = years*52\n",
    "months = years*12\n",
    "\n",
    "print(f\"you have {days}, {weeks} weeks, and {months} left \")"
   ]
  },
  {
   "cell_type": "markdown",
   "metadata": {},
   "source": [
    "### Tip Calculator"
   ]
  },
  {
   "cell_type": "raw",
   "metadata": {},
   "source": [
    "example senario\n",
    "If the bill was $150.00, split between 5 people, with 12% tip. \n",
    "Each person should pay (150.00 / 5) * 1.12 = 33.6\n",
    "Format the result to 2 decimal places = 33.60\n",
    "Tip: There are 2 ways to round a number. You might have to do some Googling to solve this.💪"
   ]
  },
  {
   "cell_type": "code",
   "execution_count": 10,
   "metadata": {},
   "outputs": [
    {
     "name": "stdout",
     "output_type": "stream",
     "text": [
      "Welcome to the Tip Calculator\n",
      "what was the toatal bill?124.56\n",
      "what percentage would you like to give? 10, 12, or 15 ?12\n",
      "how many people want to split the bill7\n",
      "each personshould pay  19.93\n"
     ]
    }
   ],
   "source": [
    "print(\"Welcome to the Tip Calculator\")\n",
    "bill_amount = float(input(\"what was the toatal bill?\"))\n",
    "tip_per = int(input(\"what percentage would you like to give? 10, 12, or 15 ?\"))\n",
    "people = int(input(\"how many people want to split the bill\"))\n",
    "\n",
    "total_per = (bill_amount*tip_per)/100\n",
    "formula = round((bill_amount+total_per)/people,2)\n",
    "\n",
    "total_bill = print(f\"each personshould pay  {formula}\")"
   ]
  }
 ],
 "metadata": {
  "kernelspec": {
   "display_name": "Python 3",
   "language": "python",
   "name": "python3"
  },
  "language_info": {
   "codemirror_mode": {
    "name": "ipython",
    "version": 3
   },
   "file_extension": ".py",
   "mimetype": "text/x-python",
   "name": "python",
   "nbconvert_exporter": "python",
   "pygments_lexer": "ipython3",
   "version": "3.8.5"
  }
 },
 "nbformat": 4,
 "nbformat_minor": 4
}
